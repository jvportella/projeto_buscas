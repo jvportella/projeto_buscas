{
 "cells": [
  {
   "cell_type": "markdown",
   "id": "8a2c0993",
   "metadata": {},
   "source": [
    "## Árvore de Decisão — Câncer de Mama"
   ]
  },
  {
   "cell_type": "markdown",
   "id": "458726f3",
   "metadata": {},
   "source": [
    "## 0. Imports"
   ]
  },
  {
   "cell_type": "code",
   "execution_count": null,
   "id": "9136bf34",
   "metadata": {},
   "outputs": [],
   "source": [
    "\n",
    "import numpy as np\n",
    "import pandas as pd\n",
    "import matplotlib.pyplot as plt\n",
    "\n",
    "from sklearn.datasets import load_breast_cancer\n",
    "from sklearn.model_selection import train_test_split\n",
    "from sklearn.tree import DecisionTreeClassifier, plot_tree\n",
    "from sklearn.metrics import (\n",
    "    accuracy_score, precision_score, recall_score,\n",
    "    f1_score, roc_auc_score, roc_curve, classification_report\n",
    ")\n",
    "\n",
    "RANDOM_STATE = 42\n",
    "np.random.seed(RANDOM_STATE)\n"
   ]
  },
  {
   "cell_type": "markdown",
   "id": "4e779c14",
   "metadata": {},
   "source": [
    "## 1. Dados"
   ]
  },
  {
   "cell_type": "code",
   "execution_count": null,
   "id": "a9c6fd05",
   "metadata": {},
   "outputs": [],
   "source": [
    "\n",
    "data = load_breast_cancer()\n",
    "X = pd.DataFrame(data.data, columns=data.feature_names) # cada linha de x é um nódulo e cada coluna é uma medida desse nódulo\n",
    "y = pd.Series(data.target, name=\"target\")  # guarda que tipo de nódulo é, 0=maligno, 1=benigno\n",
    "\n",
    "print(f\"Formato X: {X.shape}, y: {y.shape}\")\n",
    "display(X.head())\n",
    "\n",
    "\n",
    "class_counts = y.value_counts().sort_index()\n",
    "print(\"\\nContagem por classe (0=maligno, 1=benigno):\")\n",
    "print(class_counts)\n",
    "\n",
    "plt.figure()\n",
    "plt.bar(class_counts.index.astype(str), class_counts.values)\n",
    "plt.title(\"Distribuição de classes (0=maligno, 1=benigno)\")\n",
    "plt.xlabel(\"Classe\"); plt.ylabel(\"Contagem\")\n",
    "plt.show()\n"
   ]
  },
  {
   "cell_type": "markdown",
   "id": "fe26fa35",
   "metadata": {},
   "source": [
    "## 2. Divisão treino/teste (70/30)"
   ]
  },
  {
   "cell_type": "code",
   "execution_count": null,
   "id": "7b9d6601",
   "metadata": {},
   "outputs": [],
   "source": [
    "\n",
    "X_train, X_test, y_train, y_test = train_test_split( # divide 70% dos dados para treinar a árvore e o restante pra testar sua performance\n",
    "    X, y,\n",
    "    test_size=0.30, #30% para teste da árvore\n",
    "    random_state=RANDOM_STATE,\n",
    "    stratify=y\n",
    ")\n",
    "print(f\"Treino: {X_train.shape}, Teste: {X_test.shape}\")\n"
   ]
  },
  {
   "cell_type": "markdown",
   "id": "ade6ab68",
   "metadata": {},
   "source": [
    "## 3. Modelo base: Árvore de Decisão"
   ]
  },
  {
   "cell_type": "code",
   "execution_count": null,
   "id": "9fb4b311",
   "metadata": {},
   "outputs": [],
   "source": [
    "\n",
    "clf = DecisionTreeClassifier(random_state=RANDOM_STATE) # a árvore é criada\n",
    "clf.fit(X_train, y_train) # a árvore é treinada com os dados passados anteriormente\n",
    "# depois do treino, a árvore será testada e mostrará os parâmetros gerados\n",
    "print(\"Profundidade da árvore:\", clf.get_depth()) # profundidade da árvore, ou seja, o número máximo de perguntas que a árvore faz para chegar a uma decisão\n",
    "print(\"Número de folhas:\", clf.get_n_leaves()) # número de folhas, ou seja, o número de decisões finais que a árvore pode tomar\n"
   ]
  },
  {
   "cell_type": "markdown",
   "id": "09b458f8",
   "metadata": {},
   "source": [
    "## 3. Avaliação no teste — métricas principais"
   ]
  },
  {
   "cell_type": "code",
   "execution_count": null,
   "id": "cae21b85",
   "metadata": {},
   "outputs": [],
   "source": [
    "\n",
    "y_pred = clf.predict(X_test)\n",
    "# com base nos testes que ela fez, as métricas (taxas de desempenho) são exibidas\n",
    "acc = accuracy_score(y_test, y_pred) \n",
    "prec = precision_score(y_test, y_pred, zero_division=0)\n",
    "rec = recall_score(y_test, y_pred, zero_division=0)\n",
    "f1 = f1_score(y_test, y_pred, zero_division=0)\n",
    "\n",
    "print(f\"Acurácia : {acc:.4f}\") # de x casos, ela acerta quantos? acertos no geral\n",
    "# precisão: de todos os casos que ela disse que era positivo, quantos realmente eram positivos? baixa precisão = muitos falsos positivos\n",
    "# recall: de todos os casos que eram positivos, quantos ela conseguiu identificar? baixa revocação = muitos falsos negativos\n",
    "# f1: média harmônica para medir equilíbrio entre precisão e revocação \n",
    "# 0 = maligno, 1 = benigno\n",
    "\n",
    "print(\"\\nRelatório de classificação:\") # \n",
    "from sklearn.metrics import classification_report\n",
    "\n",
    "rep = classification_report(\n",
    "    y_test, y_pred,\n",
    "    output_dict=True,           # devolve um dicionário (não o texto pronto)\n",
    "    zero_division=0\n",
    ")\n",
    "\n",
    "import pandas as pd\n",
    "df = pd.DataFrame(rep).T\n",
    "\n",
    "df = df.loc[[\"0\", \"1\"], [\"precision\", \"recall\", \"f1-score\", \"support\"]]\n",
    "print(df.to_string())\n",
    "\n"
   ]
  },
  {
   "cell_type": "markdown",
   "id": "a53427d4",
   "metadata": {},
   "source": [
    "## 4. Visualização da árvore (modelo base)"
   ]
  },
  {
   "cell_type": "code",
   "execution_count": null,
   "id": "fb62fdb9",
   "metadata": {},
   "outputs": [],
   "source": [
    "\n",
    "plt.figure(figsize=(18, 10))\n",
    "plot_tree(\n",
    "    clf,\n",
    "    feature_names=X.columns,\n",
    "    class_names=[\"maligno (0)\", \"benigno (1)\"],\n",
    "    filled=True,\n",
    "    rounded=True\n",
    ")\n",
    "plt.title(\"Árvore de Decisão — Modelo base\")\n",
    "plt.show()\n"
   ]
  },
  {
   "cell_type": "markdown",
   "id": "18f370af",
   "metadata": {},
   "source": [
    "## 5. Importância dos atributos (Top-10)"
   ]
  },
  {
   "cell_type": "code",
   "execution_count": null,
   "id": "22c89a3c",
   "metadata": {},
   "outputs": [],
   "source": [
    "\n",
    "importances = pd.Series(clf.feature_importances_, index=X.columns).sort_values(ascending=False)\n",
    "topk = 10\n",
    "top_imp = importances.head(topk)\n",
    "\n",
    "# Soma de todas as reduções de impureza que esse atributo causou ao longo da árvore, \n",
    "# ponderadas pelo nº de amostras que passaram pelo nó, e normalizada para somar 1.0 no final.\n",
    "# Resumindo, quanto mais o atributo diminui a impureza de Gini, mais importante ele é.\n",
    "\n",
    "display(top_imp.to_frame(\"importance\"))\n",
    "\n",
    "plt.figure()\n",
    "plt.barh(top_imp.index[::-1], top_imp.values[::-1])\n",
    "plt.title(f\"Top {topk} atributos mais importantes (modelo base)\")\n",
    "plt.xlabel(\"Importância (Gini)\"); plt.ylabel(\"Atributo\")\n",
    "plt.tight_layout()\n",
    "plt.show()\n"
   ]
  },
  {
   "cell_type": "markdown",
   "id": "adcb9f74",
   "metadata": {},
   "source": [
    "## 6. Controle de complexidade - Poda por custo "
   ]
  },
  {
   "cell_type": "code",
   "execution_count": null,
   "id": "2512ff6f",
   "metadata": {},
   "outputs": [],
   "source": [
    "\n",
    "path = clf.cost_complexity_pruning_path(X_train, y_train)\n",
    "ccp_alphas = path.ccp_alphas\n",
    "\n",
    "accs = []\n",
    "models = []\n",
    "\n",
    "for alpha in ccp_alphas:\n",
    "    m = DecisionTreeClassifier(random_state=RANDOM_STATE, ccp_alpha=alpha)\n",
    "    m.fit(X_train, y_train)\n",
    "    y_pred_m = m.predict(X_test)\n",
    "    acc_m = accuracy_score(y_test, y_pred_m)\n",
    "    accs.append(acc_m)\n",
    "    models.append(m)\n",
    "\n",
    "best_idx = int(np.argmax(accs))\n",
    "best_alpha = ccp_alphas[best_idx]\n",
    "best_acc = accs[best_idx]\n",
    "\n",
    "print(f\"Melhor alpha (teste) = {best_alpha:.6f} | Acurácia = {best_acc:.4f}\")\n",
    "\n",
    "plt.figure()\n",
    "plt.plot(ccp_alphas, accs, marker=\"o\")\n",
    "plt.title(\"Acurácia no teste vs ccp_alpha (poda)\")\n",
    "plt.xlabel(\"ccp_alpha\")\n",
    "plt.ylabel(\"Acurácia (teste)\")\n",
    "plt.show()\n",
    "\n",
    "clf_pruned = models[best_idx]\n",
    "print(\"Profundidade (podada):\", clf_pruned.get_depth(), \" | Folhas:\", clf_pruned.get_n_leaves())\n",
    "\n",
    "# Os alphas gerados vão gradualmente podar as ramificações menos importantes da árvore, até chegar em um valor ótimo."
   ]
  },
  {
   "cell_type": "markdown",
   "id": "1e4b6c29",
   "metadata": {},
   "source": [
    "### 7.1 Comparação: modelo base vs. podado (métricas principais)"
   ]
  },
  {
   "cell_type": "code",
   "execution_count": null,
   "id": "ba3eb1ee",
   "metadata": {},
   "outputs": [],
   "source": [
    "\n",
    "def metrics_report(model, Xte, yte, name=\"model\"):\n",
    "    ypred = model.predict(Xte)\n",
    "    acc = accuracy_score(yte, ypred)\n",
    "    prec = precision_score(yte, ypred, zero_division=0)\n",
    "    rec = recall_score(yte, ypred, zero_division=0)\n",
    "    f1 = f1_score(yte, ypred, zero_division=0)\n",
    "    print(f\"[{name}] acc={acc:.4f} | prec={prec:.4f} | rec={rec:.4f} | f1={f1:.4f}\")\n",
    "    return {\"acc\": acc, \"prec\": prec, \"rec\": rec, \"f1\": f1}\n",
    "\n",
    "m_base = metrics_report(clf, X_test, y_test, \"base\")\n",
    "m_pruned = metrics_report(clf_pruned, X_test, y_test, \"podado\")\n"
   ]
  },
  {
   "cell_type": "markdown",
   "id": "a1253cca",
   "metadata": {},
   "source": [
    "### 7.2 Árvore podada (visual)"
   ]
  },
  {
   "cell_type": "code",
   "execution_count": null,
   "id": "1bd91cf9",
   "metadata": {},
   "outputs": [],
   "source": [
    "\n",
    "plt.figure(figsize=(18, 10))\n",
    "plot_tree(\n",
    "    clf_pruned,\n",
    "    feature_names=X.columns,\n",
    "    class_names=[\"maligno (0)\", \"benigno (1)\"],\n",
    "    filled=True,\n",
    "    rounded=True\n",
    ")\n",
    "plt.title(\"Árvore de Decisão — Modelo podado\")\n",
    "plt.show()\n"
   ]
  }
 ],
 "metadata": {
  "kernelspec": {
   "display_name": ".venv",
   "language": "python",
   "name": "python3"
  },
  "language_info": {
   "codemirror_mode": {
    "name": "ipython",
    "version": 3
   },
   "file_extension": ".py",
   "mimetype": "text/x-python",
   "name": "python",
   "nbconvert_exporter": "python",
   "pygments_lexer": "ipython3",
   "version": "3.13.7"
  }
 },
 "nbformat": 4,
 "nbformat_minor": 5
}
